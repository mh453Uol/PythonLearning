{
 "cells": [
  {
   "cell_type": "code",
   "execution_count": 63,
   "metadata": {},
   "outputs": [],
   "source": [
    "import requests as request\n",
    "import os as os"
   ]
  },
  {
   "cell_type": "code",
   "execution_count": 66,
   "metadata": {
    "collapsed": true
   },
   "outputs": [],
   "source": [
    "get_raw_data_script_file = os.path.join(os.path.pardir,\"src\",\"data\",\"get_raw_data.py\")"
   ]
  },
  {
   "cell_type": "code",
   "execution_count": 74,
   "metadata": {},
   "outputs": [
    {
     "name": "stdout",
     "output_type": "stream",
     "text": [
      "Overwriting ..\\src\\data\\get_raw_data.py\n"
     ]
    }
   ],
   "source": [
    "%%writefile $get_raw_data_script_file\n",
    "\n",
    "import requests as request\n",
    "import os as os\n",
    "# this create a file inside the titanic/src/data folder with name generate for us\n",
    "# this script can be run from command line.\n",
    "def extract_data(url,file_path):\n",
    "    # with is like, using in c# rather \n",
    "    # than have try catch finally to close\n",
    "    # close we use with in python\n",
    "    with open(file_path,\"w\") as handle:\n",
    "        response = request.get(url).text\n",
    "        handle.write(response.replace('\\n',''))\n",
    "        #print(response.strip(\"\\n\"))\n",
    "\n",
    "train_csv = \"https://raw.githubusercontent.com/pcsanwald/kaggle-titanic/master/train.csv\"\n",
    "test_csv = \"https://raw.githubusercontent.com/pcsanwald/kaggle-titanic/master/test.csv\"\n",
    "\n",
    "# get path of titanic/data/raw \n",
    "raw_data_path = os.path.join(os.path.pardir,\"data\",\"raw\")\n",
    "\n",
    "# create path for train.csv and test.csv file /data/raw/\n",
    "train_data_path = os.path.join(raw_data_path,\"train.csv\")\n",
    "test_data_path = os.path.join(raw_data_path,\"test.csv\")\n",
    "\n",
    "extract_data(train_csv,train_data_path)\n",
    "extract_data(train_csv,test_data_path)"
   ]
  },
  {
   "cell_type": "code",
   "execution_count": 43,
   "metadata": {},
   "outputs": [],
   "source": [
    "def extract_data(url,file_path):\n",
    "    # with is like, using in c# rather \n",
    "    # than have try catch finally to close\n",
    "    # close we use with in python\n",
    "    with open(file_path,\"w\") as handle:\n",
    "        response = request.get(url).text\n",
    "        handle.write(response.replace('\\n',''))\n",
    "        #print(response.strip(\"\\n\"))"
   ]
  },
  {
   "cell_type": "code",
   "execution_count": 67,
   "metadata": {},
   "outputs": [],
   "source": [
    "train_csv = \"https://raw.githubusercontent.com/pcsanwald/kaggle-titanic/master/train.csv\"\n",
    "test_csv = \"https://raw.githubusercontent.com/pcsanwald/kaggle-titanic/master/test.csv\"\n",
    "\n",
    "# get path of titanic/data/raw \n",
    "raw_data_path = os.path.join(os.path.pardir,\"data\",\"raw\")\n",
    "\n",
    "# create path for train.csv and test.csv file /data/raw/\n",
    "train_data_path = os.path.join(raw_data_path,\"train.csv\")\n",
    "test_data_path = os.path.join(raw_data_path,\"test.csv\")\n",
    "\n",
    "extract_data(train_csv,train_data_path)\n",
    "extract_data(train_csv,test_data_path)"
   ]
  }
 ],
 "metadata": {
  "kernelspec": {
   "display_name": "Python 3",
   "language": "python",
   "name": "python3"
  },
  "language_info": {
   "codemirror_mode": {
    "name": "ipython",
    "version": 3
   },
   "file_extension": ".py",
   "mimetype": "text/x-python",
   "name": "python",
   "nbconvert_exporter": "python",
   "pygments_lexer": "ipython3",
   "version": "3.6.3"
  }
 },
 "nbformat": 4,
 "nbformat_minor": 2
}
